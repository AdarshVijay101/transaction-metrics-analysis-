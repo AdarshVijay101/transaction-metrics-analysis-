{
 "cells": [
  {
   "cell_type": "code",
   "execution_count": 0,
   "metadata": {
    "application/vnd.databricks.v1+cell": {
     "cellMetadata": {
      "byteLimit": 2048000,
      "rowLimit": 10000
     },
     "inputWidgets": {},
     "nuid": "cfb9092a-2c24-4d16-9185-1d862624d380",
     "showTitle": false,
     "tableResultSettingsMap": {},
     "title": ""
    }
   },
   "outputs": [
    {
     "name": "stdout",
     "output_type": "stream",
     "text": [
      "/mnt/raw-transactions has been unmounted.\n",
      "/mnt/processed-transactions has been unmounted.\n",
      "Out[18]: True"
     ]
    }
   ],
   "source": [
    "%python\n",
    "# Replace these with your own Storage Account details\n",
    "storage_account_name = \"ENTER YOURE STORAGE ACCOUNT NAME\"    # e.g., financestreamdatastorage\n",
    "storage_account_key = \"ENTER YOUR AZURE STORAGE ACCOUNT KEY\"   # Copy from Azure portal\n",
    "# Set the source URL (wasbs or abfss)\n",
    "source_url = f\"wasbs://raw-transactions@{storage_account_name}.blob.core.windows.net\"\n",
    "\n",
    "# Unmount if already mounted\n",
    "if any(mount.mountPoint == \"/mnt/raw-transactions\" for mount in dbutils.fs.mounts()):\n",
    "    dbutils.fs.unmount(\"/mnt/raw-transactions\")\n",
    "\n",
    "# Mount raw-transactions container\n",
    "dbutils.fs.mount(\n",
    "  source = source_url,\n",
    "  mount_point = \"/mnt/raw-transactions\",\n",
    "  extra_configs = {f\"fs.azure.account.key.{storage_account_name}.blob.core.windows.net\": storage_account_key}\n",
    ")\n",
    "\n",
    "# Similarly, mount processed-transactions container\n",
    "source_url2 = f\"wasbs://processed-transactions@{storage_account_name}.blob.core.windows.net\"\n",
    "\n",
    "# Unmount if already mounted\n",
    "if any(mount.mountPoint == \"/mnt/processed-transactions\" for mount in dbutils.fs.mounts()):\n",
    "    dbutils.fs.unmount(\"/mnt/processed-transactions\")\n",
    "\n",
    "dbutils.fs.mount(\n",
    "  source = source_url2,\n",
    "  mount_point = \"/mnt/processed-transactions\",\n",
    "  extra_configs = {f\"fs.azure.account.key.{storage_account_name}.blob.core.windows.net\": storage_account_key}\n",
    ")"
   ]
  },
  {
   "cell_type": "code",
   "execution_count": 0,
   "metadata": {
    "application/vnd.databricks.v1+cell": {
     "cellMetadata": {
      "byteLimit": 2048000,
      "rowLimit": 10000
     },
     "inputWidgets": {},
     "nuid": "84739475-432d-465c-93f5-639a651026ea",
     "showTitle": false,
     "tableResultSettingsMap": {},
     "title": ""
    }
   },
   "outputs": [
    {
     "data": {
      "text/plain": []
     },
     "metadata": {
      "application/vnd.databricks.v1+output": {
       "arguments": {},
       "data": "",
       "errorSummary": "Command skipped",
       "errorTraceType": "ansi",
       "metadata": {},
       "type": "ipynbError"
      }
     },
     "output_type": "display_data"
    }
   ],
   "source": [
    "# ----------------------------------------\n",
    "# 1. Import Libraries\n",
    "# ----------------------------------------\n",
    "from pyspark.sql.types import StructType, StructField, StringType, DoubleType, TimestampType\n",
    "import pyspark.sql.functions as F\n",
    "\n",
    "# ----------------------------------------\n",
    "# 2. Define Schema for Transactions\n",
    "# ----------------------------------------\n",
    "txnSchema = StructType([\n",
    "    StructField(\"transaction_id\", StringType(), True),\n",
    "    StructField(\"account_id\", StringType(), True),\n",
    "    StructField(\"timestamp\", TimestampType(), True),\n",
    "    StructField(\"amount\", DoubleType(), True),\n",
    "    StructField(\"location\", StringType(), True),\n",
    "    StructField(\"channel\", StringType(), True)\n",
    "])\n"
   ]
  },
  {
   "cell_type": "code",
   "execution_count": 0,
   "metadata": {
    "application/vnd.databricks.v1+cell": {
     "cellMetadata": {
      "byteLimit": 2048000,
      "rowLimit": 10000
     },
     "inputWidgets": {},
     "nuid": "5885f444-bf8e-40dc-821a-0e455c077c82",
     "showTitle": false,
     "tableResultSettingsMap": {},
     "title": ""
    }
   },
   "outputs": [
    {
     "data": {
      "text/plain": []
     },
     "metadata": {
      "application/vnd.databricks.v1+output": {
       "arguments": {},
       "data": "",
       "errorSummary": "Command skipped",
       "errorTraceType": "ansi",
       "metadata": {},
       "type": "ipynbError"
      }
     },
     "output_type": "display_data"
    }
   ],
   "source": [
    "# ----------------------------------------\n",
    "# 3. Read Streaming Files (Auto Loader)\n",
    "# ----------------------------------------\n",
    "stream_df = (spark.readStream\n",
    "             .format(\"cloudFiles\")\n",
    "             .option(\"cloudFiles.format\", \"csv\")\n",
    "             .option(\"header\", \"true\")\n",
    "             .schema(txnSchema)\n",
    "             .load(\"/mnt/raw-transactions/\"))\n"
   ]
  },
  {
   "cell_type": "code",
   "execution_count": 0,
   "metadata": {
    "application/vnd.databricks.v1+cell": {
     "cellMetadata": {
      "byteLimit": 2048000,
      "rowLimit": 10000
     },
     "inputWidgets": {},
     "nuid": "840b4bae-d5b7-469c-aa4b-e54055cb50ea",
     "showTitle": false,
     "tableResultSettingsMap": {},
     "title": ""
    }
   },
   "outputs": [
    {
     "data": {
      "text/plain": []
     },
     "metadata": {
      "application/vnd.databricks.v1+output": {
       "arguments": {},
       "data": "",
       "errorSummary": "Command skipped",
       "errorTraceType": "ansi",
       "metadata": {},
       "type": "ipynbError"
      }
     },
     "output_type": "display_data"
    }
   ],
   "source": [
    "# ----------------------------------------\n",
    "# 4. Add Fraud Detection Logic\n",
    "# ----------------------------------------\n",
    "processed_df = (stream_df\n",
    "    .withColumn(\"is_suspicious\", F.col(\"amount\") > 10000)\n",
    "    .withColumn(\"ingest_timestamp\", F.current_timestamp())\n",
    ")\n"
   ]
  },
  {
   "cell_type": "code",
   "execution_count": 0,
   "metadata": {
    "application/vnd.databricks.v1+cell": {
     "cellMetadata": {
      "byteLimit": 2048000,
      "rowLimit": 10000
     },
     "inputWidgets": {},
     "nuid": "39c2eb25-a75f-45f0-8931-b42e2467f005",
     "showTitle": false,
     "tableResultSettingsMap": {},
     "title": ""
    }
   },
   "outputs": [
    {
     "data": {
      "text/plain": []
     },
     "metadata": {
      "application/vnd.databricks.v1+output": {
       "arguments": {},
       "data": "",
       "errorSummary": "Command skipped",
       "errorTraceType": "ansi",
       "metadata": {},
       "type": "ipynbError"
      }
     },
     "output_type": "display_data"
    }
   ],
   "source": [
    "# ----------------------------------------\n",
    "# 5. Write Stream to Delta Lake\n",
    "# ----------------------------------------\n",
    "(processed_df.writeStream\n",
    "    .format(\"delta\")\n",
    "    .outputMode(\"append\")\n",
    "    .option(\"checkpointLocation\", \"/mnt/processed-transactions/checkpoints/\")\n",
    "    .start(\"/mnt/processed-transactions/transactions_delta/\"))\n"
   ]
  },
  {
   "cell_type": "code",
   "execution_count": 0,
   "metadata": {
    "application/vnd.databricks.v1+cell": {
     "cellMetadata": {
      "byteLimit": 2048000,
      "rowLimit": 10000
     },
     "inputWidgets": {},
     "nuid": "567070f8-ccb7-4d2c-b1ca-5b8a58ceaf65",
     "showTitle": false,
     "tableResultSettingsMap": {},
     "title": ""
    }
   },
   "outputs": [
    {
     "data": {
      "text/plain": []
     },
     "metadata": {
      "application/vnd.databricks.v1+output": {
       "arguments": {},
       "data": "",
       "errorSummary": "Command skipped",
       "errorTraceType": "ansi",
       "metadata": {},
       "type": "ipynbError"
      }
     },
     "output_type": "display_data"
    }
   ],
   "source": [
    "# ----------------------------------------\n",
    "# 6. (Optional) Aggregated Metrics for Monitoring\n",
    "# ----------------------------------------\n",
    "metrics_df = (processed_df\n",
    "    .groupBy(F.window(\"timestamp\", \"1 minute\"))\n",
    "    .agg(\n",
    "        F.count(\"*\").alias(\"txn_count\"),\n",
    "        F.sum(\"amount\").alias(\"total_amount\"),\n",
    "        F.sum(F.when(F.col(\"is_suspicious\"), 1).otherwise(0)).alias(\"suspicious_count\")\n",
    "    ))\n",
    "\n",
    "(metrics_df.writeStream\n",
    "    .format(\"memory\")\n",
    "    .queryName(\"TxnMetrics\")\n",
    "    .outputMode(\"complete\")\n",
    "    .start())"
   ]
  },
  {
   "cell_type": "code",
   "execution_count": 0,
   "metadata": {
    "application/vnd.databricks.v1+cell": {
     "cellMetadata": {
      "byteLimit": 2048000,
      "implicitDf": true,
      "rowLimit": 10000
     },
     "inputWidgets": {},
     "nuid": "7d505822-c74c-47af-bba4-b87377747fd1",
     "showTitle": false,
     "tableResultSettingsMap": {},
     "title": ""
    }
   },
   "outputs": [
    {
     "data": {
      "text/html": [
       "<style scoped>\n",
       "  .table-result-container {\n",
       "    max-height: 300px;\n",
       "    overflow: auto;\n",
       "  }\n",
       "  table, th, td {\n",
       "    border: 1px solid black;\n",
       "    border-collapse: collapse;\n",
       "  }\n",
       "  th, td {\n",
       "    padding: 5px;\n",
       "  }\n",
       "  th {\n",
       "    text-align: left;\n",
       "  }\n",
       "</style><div class='table-result-container'><table class='table-result'><thead style='background-color: white'><tr><th>window</th><th>txn_count</th><th>suspicious_count</th><th>total_amount</th></tr></thead><tbody><tr><td>List(2025-04-26T17:00:00.000+0000, 2025-04-26T17:01:00.000+0000)</td><td>1</td><td>0</td><td>5000.0</td></tr><tr><td>List(2025-04-26T17:01:00.000+0000, 2025-04-26T17:02:00.000+0000)</td><td>1</td><td>1</td><td>12000.0</td></tr><tr><td>List(2025-04-26T17:02:00.000+0000, 2025-04-26T17:03:00.000+0000)</td><td>1</td><td>0</td><td>750.0</td></tr><tr><td>List(2025-04-26T17:03:00.000+0000, 2025-04-26T17:04:00.000+0000)</td><td>1</td><td>1</td><td>15000.0</td></tr><tr><td>List(2025-04-26T17:04:00.000+0000, 2025-04-26T17:05:00.000+0000)</td><td>1</td><td>0</td><td>300.0</td></tr></tbody></table></div>"
      ]
     },
     "metadata": {
      "application/vnd.databricks.v1+output": {
       "addedWidgets": {},
       "aggData": [],
       "aggError": "",
       "aggOverflow": false,
       "aggSchema": [],
       "aggSeriesLimitReached": false,
       "aggType": "",
       "arguments": {},
       "columnCustomDisplayInfos": {},
       "data": [
        [
         [
          "2025-04-26T17:00:00.000+0000",
          "2025-04-26T17:01:00.000+0000"
         ],
         1,
         0,
         5000
        ],
        [
         [
          "2025-04-26T17:01:00.000+0000",
          "2025-04-26T17:02:00.000+0000"
         ],
         1,
         1,
         12000
        ],
        [
         [
          "2025-04-26T17:02:00.000+0000",
          "2025-04-26T17:03:00.000+0000"
         ],
         1,
         0,
         750
        ],
        [
         [
          "2025-04-26T17:03:00.000+0000",
          "2025-04-26T17:04:00.000+0000"
         ],
         1,
         1,
         15000
        ],
        [
         [
          "2025-04-26T17:04:00.000+0000",
          "2025-04-26T17:05:00.000+0000"
         ],
         1,
         0,
         300
        ]
       ],
       "datasetInfos": [],
       "dbfsResultPath": null,
       "isJsonSchema": true,
       "metadata": {},
       "overflow": false,
       "plotOptions": {
        "customPlotOptions": {},
        "displayType": "table",
        "pivotAggregation": null,
        "pivotColumns": null,
        "xColumns": null,
        "yColumns": null
       },
       "removedWidgets": [],
       "schema": [
        {
         "metadata": "{}",
         "name": "window",
         "type": "{\"type\":\"struct\",\"fields\":[{\"name\":\"start\",\"type\":\"timestamp\",\"nullable\":true,\"metadata\":{}},{\"name\":\"end\",\"type\":\"timestamp\",\"nullable\":true,\"metadata\":{}}]}"
        },
        {
         "metadata": "{}",
         "name": "txn_count",
         "type": "\"long\""
        },
        {
         "metadata": "{}",
         "name": "suspicious_count",
         "type": "\"long\""
        },
        {
         "metadata": "{}",
         "name": "total_amount",
         "type": "\"double\""
        }
       ],
       "type": "table"
      }
     },
     "output_type": "display_data"
    }
   ],
   "source": [
    "%sql\n",
    "SELECT * FROM TxnMetrics\n",
    "ORDER BY window"
   ]
  },
  {
   "cell_type": "code",
   "execution_count": 0,
   "metadata": {
    "application/vnd.databricks.v1+cell": {
     "cellMetadata": {
      "byteLimit": 2048000,
      "rowLimit": 10000
     },
     "inputWidgets": {},
     "nuid": "96cb8a15-5906-4f3a-b599-c34c1d2897fa",
     "showTitle": false,
     "tableResultSettingsMap": {},
     "title": ""
    }
   },
   "outputs": [],
   "source": []
  }
 ],
 "metadata": {
  "application/vnd.databricks.v1+notebook": {
   "computePreferences": null,
   "dashboards": [],
   "environmentMetadata": {
    "base_environment": "",
    "environment_version": "2"
   },
   "inputWidgetPreferences": null,
   "language": "python",
   "notebookMetadata": {
    "mostRecentlyExecutedCommandWithImplicitDF": {
     "commandId": 7376701928361287,
     "dataframes": [
      "_sqldf"
     ]
    },
    "pythonIndentUnit": 4
   },
   "notebookName": "ANALYSIS_SCRIPT",
   "widgets": {}
  },
  "language_info": {
   "name": "python"
  }
 },
 "nbformat": 4,
 "nbformat_minor": 0
}
